{
 "cells": [
  {
   "cell_type": "code",
   "execution_count": 3,
   "id": "afff2ed2",
   "metadata": {},
   "outputs": [],
   "source": [
    "import pandas as pd\n",
    "\n",
    "dt0 = pd.read_csv(\"csv/prices_round_2_day_-1.csv\", sep=\";\")\n",
    "dt1 = pd.read_csv(\"csv/prices_round_2_day_0.csv\", sep=\";\")\n",
    "dt2 = pd.read_csv(\"csv/prices_round_2_day_1.csv\", sep=\";\")"
   ]
  },
  {
   "cell_type": "code",
   "execution_count": 6,
   "id": "e025f0a4",
   "metadata": {},
   "outputs": [
    {
     "name": "stdout",
     "output_type": "stream",
     "text": [
      "1208.8047445255474\n",
      "22.073794479817607\n"
     ]
    }
   ],
   "source": [
    "products = [\"ORCHIDS\"]\n",
    "\n",
    "print(dt0[products[0]].mean())\n",
    "print(dt0[products[0]].std())"
   ]
  }
 ],
 "metadata": {
  "kernelspec": {
   "display_name": "Python 3",
   "language": "python",
   "name": "python3"
  },
  "language_info": {
   "codemirror_mode": {
    "name": "ipython",
    "version": 3
   },
   "file_extension": ".py",
   "mimetype": "text/x-python",
   "name": "python",
   "nbconvert_exporter": "python",
   "pygments_lexer": "ipython3",
   "version": "3.8.10"
  }
 },
 "nbformat": 4,
 "nbformat_minor": 5
}
