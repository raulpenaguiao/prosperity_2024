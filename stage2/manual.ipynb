{
 "cells": [
  {
   "cell_type": "code",
   "execution_count": 12,
   "id": "6e557348",
   "metadata": {},
   "outputs": [],
   "source": [
    "def generate_paths_from(inode, nodes, steps):\n",
    "    if steps == 0:\n",
    "        return [[inode]]\n",
    "    ans = []\n",
    "    for path in generate_paths_from(inode, nodes, steps - 1):\n",
    "        for node in range(nodes):\n",
    "            ans.append(path[:] + [node])\n",
    "    return ans"
   ]
  },
  {
   "cell_type": "code",
   "execution_count": 14,
   "id": "84c14519",
   "metadata": {},
   "outputs": [
    {
     "name": "stdout",
     "output_type": "stream",
     "text": [
      "1.0569693888 [3, 0, 1, 3, 0, 3]\n"
     ]
    }
   ],
   "source": [
    "mat =[\n",
    "    [1, 0.48, 1.52, 0.71],\n",
    "    [2.05, 1, 3.26, 1.56],\n",
    "    [0.64, 0.3, 1, 0.46],\n",
    "    [1.41, 0.61, 2.08, 1]\n",
    "]\n",
    "\n",
    "def Value_path(path, matrix):\n",
    "    l = len(path)\n",
    "    ans = 1\n",
    "    for i in range(l-1):\n",
    "        ans *= matrix[path[i]][path[i+1]]\n",
    "    return ans\n",
    "inode = 3\n",
    "bestValue = 1\n",
    "bestStrat = [0, 0, 0, 0, 0, 0]\n",
    "for steps in range(5+1):\n",
    "    for path in generate_paths_from(inode, 4, steps):\n",
    "        if not path[-1] == inode:\n",
    "            continue\n",
    "        value = Value_path(path, mat)\n",
    "        if bestValue < value:\n",
    "            bestValue = value\n",
    "            bestStrat = path\n",
    "\n",
    "print(bestValue, bestStrat)"
   ]
  }
 ],
 "metadata": {
  "kernelspec": {
   "display_name": "Python 3",
   "language": "python",
   "name": "python3"
  },
  "language_info": {
   "codemirror_mode": {
    "name": "ipython",
    "version": 3
   },
   "file_extension": ".py",
   "mimetype": "text/x-python",
   "name": "python",
   "nbconvert_exporter": "python",
   "pygments_lexer": "ipython3",
   "version": "3.8.10"
  }
 },
 "nbformat": 4,
 "nbformat_minor": 5
}
