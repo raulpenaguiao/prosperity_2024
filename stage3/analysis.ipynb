{
 "cells": [
  {
   "cell_type": "code",
   "execution_count": 5,
   "id": "2be216fa",
   "metadata": {},
   "outputs": [],
   "source": [
    "import pandas as pd\n",
    "\n",
    "dt0 = pd.read_csv(\"csv/prices_round_3_day_0.csv\", sep=\";\")\n",
    "dt1 = pd.read_csv(\"csv/prices_round_3_day_1.csv\", sep=\";\")\n",
    "dt2 = pd.read_csv(\"csv/prices_round_3_day_2.csv\", sep=\";\")"
   ]
  },
  {
   "cell_type": "code",
   "execution_count": 6,
   "id": "48090574",
   "metadata": {},
   "outputs": [
    {
     "name": "stdout",
     "output_type": "stream",
     "text": [
      "{'GIFT_BASKET': 69953.65645, 'CHOCOLATE': 7797.2716, 'STRAWBERRIES': 4007.6894, 'ROSES': 14332.1346}\n",
      "{'GIFT_BASKET': 372.61117925726313, 'CHOCOLATE': 54.757879578902596, 'STRAWBERRIES': 21.95996133034307, 'ROSES': 60.560166662738155}\n"
     ]
    }
   ],
   "source": [
    "products = [\"GIFT_BASKET\", \"CHOCOLATE\", \"STRAWBERRIES\", \"ROSES\"]\n",
    "\n",
    "def Means_Products(prods, dt):\n",
    "    return { p:dt.query(\"product == '\" + p + \"'\")[\"mid_price\"].mean() for p in prods}\n",
    "def Stdvs_Products(prods, dt):\n",
    "    return { p:dt.query(\"product == '\" + p + \"'\")[\"mid_price\"].std() for p in prods}\n",
    "print(Means_Products(products, dt2))\n",
    "print(Stdvs_Products(products, dt2))"
   ]
  }
 ],
 "metadata": {
  "kernelspec": {
   "display_name": "Python 3",
   "language": "python",
   "name": "python3"
  },
  "language_info": {
   "codemirror_mode": {
    "name": "ipython",
    "version": 3
   },
   "file_extension": ".py",
   "mimetype": "text/x-python",
   "name": "python",
   "nbconvert_exporter": "python",
   "pygments_lexer": "ipython3",
   "version": "3.8.10"
  }
 },
 "nbformat": 4,
 "nbformat_minor": 5
}
